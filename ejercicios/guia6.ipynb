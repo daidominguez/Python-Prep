{
 "cells": [
  {
   "cell_type": "markdown",
   "metadata": {},
   "source": [
    "## Funciones"
   ]
  },
  {
   "cell_type": "markdown",
   "metadata": {},
   "source": [
    "1) Crear una función que reciba un número como parámetro y devuelva True si es primo y False si no lo es"
   ]
  },
  {
   "cell_type": "code",
   "execution_count": 31,
   "metadata": {},
   "outputs": [
    {
     "name": "stdout",
     "output_type": "stream",
     "text": [
      "False\n"
     ]
    }
   ],
   "source": [
    "def num_primo(num):\n",
    "    primo= True\n",
    "    for i in range (2,num):\n",
    "        if (num % i == 0):\n",
    "            primo= False\n",
    "            break\n",
    "    return primo\n",
    "\n",
    "print(num_primo(10))\n",
    "    "
   ]
  },
  {
   "cell_type": "markdown",
   "metadata": {},
   "source": [
    "2) Utilizando la función del punto 1, realizar otra función que reciba de parámetro una lista de números y devuelva sólo aquellos que son primos en otra lista"
   ]
  },
  {
   "cell_type": "code",
   "execution_count": 33,
   "metadata": {},
   "outputs": [
    {
     "name": "stdout",
     "output_type": "stream",
     "text": [
      "[1, 3, 5]\n"
     ]
    }
   ],
   "source": [
    "def primos_lista(lista):\n",
    "    lista_primos=[]\n",
    "    for i in lista:\n",
    "        if (num_primo(i)):\n",
    "            lista_primos.append(i)\n",
    "    return lista_primos\n",
    "\n",
    "print(primos_lista([1,3,5,8,10]))"
   ]
  },
  {
   "cell_type": "markdown",
   "metadata": {},
   "source": [
    "3) Crear una función que al recibir una lista de números, devuelva el que más se repite y cuántas veces lo hace. Si hay más de un \"más repetido\", que devuelva cualquiera"
   ]
  },
  {
   "cell_type": "code",
   "execution_count": 16,
   "metadata": {},
   "outputs": [],
   "source": [
    "def num_rep_lista(lista):\n",
    "    max=0\n",
    "    rep=0\n",
    "    for i in lista:\n",
    "        num_rep=lista.count(i)\n",
    "        if (num_rep > 1):\n",
    "            max=i\n",
    "            rep=num_rep\n",
    "    return max,rep"
   ]
  },
  {
   "cell_type": "code",
   "execution_count": 20,
   "metadata": {},
   "outputs": [
    {
     "name": "stdout",
     "output_type": "stream",
     "text": [
      "(0, 0)\n"
     ]
    }
   ],
   "source": [
    "lista=[1,7,8,10,9]\n",
    "print(num_rep_lista(lista))"
   ]
  },
  {
   "cell_type": "markdown",
   "metadata": {},
   "source": [
    "4) A la función del punto 3, agregar un parámetro más, que permita elegir si se requiere el menor o el mayor de los mas repetidos."
   ]
  },
  {
   "cell_type": "code",
   "execution_count": 26,
   "metadata": {},
   "outputs": [],
   "source": [
    "def num_rep_lista2(lista,men):\n",
    "    max=0\n",
    "    rep=0\n",
    "    if (men):\n",
    "        lista.sort(reverse=True)\n",
    "    else:\n",
    "        lista.sort()\n",
    "    for i in lista:\n",
    "        num_rep=lista.count(i)\n",
    "        if (num_rep > 1):\n",
    "            max=i\n",
    "            rep=num_rep\n",
    "    return max,rep"
   ]
  },
  {
   "cell_type": "code",
   "execution_count": 28,
   "metadata": {},
   "outputs": [
    {
     "name": "stdout",
     "output_type": "stream",
     "text": [
      "(8, 2)\n"
     ]
    }
   ],
   "source": [
    "lista=[1,7,8,10,9,8,10]\n",
    "print(num_rep_lista2(lista,True))"
   ]
  },
  {
   "cell_type": "markdown",
   "metadata": {},
   "source": [
    "5) Crear una función que convierta entre grados Celsius, Farenheit y Kelvin<br>\n",
    "Fórmula 1\t: (°C × 9/5) + 32 = °F<br>\n",
    "Fórmula 2\t: °C + 273.15 = °K<br>\n",
    "Debe recibir 3 parámetros: el valor, la medida de orígen y la medida de destino\n"
   ]
  },
  {
   "cell_type": "code",
   "execution_count": 34,
   "metadata": {},
   "outputs": [
    {
     "name": "stdout",
     "output_type": "stream",
     "text": [
      "None\n"
     ]
    }
   ],
   "source": [
    "def Temperatura(val,med_origen,med_dest):\n",
    "    if (med_origen == 'Celsius'):\n",
    "        if (med_dest == 'Kelvin'):\n",
    "            return val+273.15\n",
    "        elif (med_dest == 'Farenheit'):\n",
    "            return val*(9/5)+32\n",
    "        elif (med_dest == 'Celsius'):\n",
    "            return val\n",
    "        else: \n",
    "            return None\n",
    "    elif (med_origen == 'Kelvin'):\n",
    "        if (med_dest == 'Celsius'):\n",
    "            return val-273.15\n",
    "        elif (med_dest == 'Farenheit'):\n",
    "            return (val-273.15)*(9/5)+32\n",
    "        elif (med_dest == 'Kelvin'):\n",
    "            return val\n",
    "        else: \n",
    "            return None\n",
    "    elif (med_origen == 'Farenheit'):\n",
    "        if (med_dest == 'Kelvin'):\n",
    "            return (val-32)*5/9 +273.15\n",
    "        elif (med_dest == 'Celsius'):\n",
    "            return (val-32)*5/9\n",
    "        elif (med_dest == 'Farenheit'):\n",
    "            return val\n",
    "        else: \n",
    "            return None\n",
    "    else:\n",
    "        return None\n",
    "\n",
    "print(Temperatura(5,'Celsius','Farenheit'))"
   ]
  },
  {
   "cell_type": "markdown",
   "metadata": {},
   "source": [
    "6) Iterando una lista con los tres valores posibles de temperatura que recibe la función del punto 5, hacer un print para cada combinación de los mismos:"
   ]
  },
  {
   "cell_type": "code",
   "execution_count": 36,
   "metadata": {},
   "outputs": [
    {
     "name": "stdout",
     "output_type": "stream",
     "text": [
      "20  grado  Celsius  a  Celsius :  20\n",
      "20  grado  Celsius  a  Kelvin :  293.15\n",
      "20  grado  Celsius  a  Farenheit :  68.0\n",
      "20  grado  Kelvin  a  Celsius :  -253.15\n",
      "20  grado  Kelvin  a  Kelvin :  20\n",
      "20  grado  Kelvin  a  Farenheit :  -423.67\n",
      "20  grado  Farenheit  a  Celsius :  -6.67\n",
      "20  grado  Farenheit  a  Kelvin :  266.48\n",
      "20  grado  Farenheit  a  Farenheit :  20\n"
     ]
    }
   ],
   "source": [
    "lis=['Celsius','Kelvin','Farenheit']\n",
    "num=20\n",
    "for j in range(3):\n",
    "    for i in range(3):\n",
    "        print(num,' grado ',lis[j],' a ',lis[i],': ', round(Temperatura(num,lis[j],lis[i]),2))\n"
   ]
  },
  {
   "cell_type": "markdown",
   "metadata": {},
   "source": [
    "7) Armar una función que devuelva el factorial de un número. Tener en cuenta que el usuario puede equivocarse y enviar de parámetro un número no entero o negativo"
   ]
  },
  {
   "cell_type": "code",
   "execution_count": 37,
   "metadata": {},
   "outputs": [
    {
     "name": "stdout",
     "output_type": "stream",
     "text": [
      "0\n"
     ]
    }
   ],
   "source": [
    "def factorial(num):\n",
    "    if (num>1):\n",
    "        if (type(num) != int):\n",
    "            return None\n",
    "        else:\n",
    "            num=num*factorial(num-1)\n",
    "    if (num<0):\n",
    "        return None\n",
    "    return num\n",
    "\n",
    "print(factorial(0))\n",
    "\n",
    "\n",
    "   "
   ]
  }
 ],
 "metadata": {
  "kernelspec": {
   "display_name": "Python 3",
   "language": "python",
   "name": "python3"
  },
  "language_info": {
   "codemirror_mode": {
    "name": "ipython",
    "version": 3
   },
   "file_extension": ".py",
   "mimetype": "text/x-python",
   "name": "python",
   "nbconvert_exporter": "python",
   "pygments_lexer": "ipython3",
   "version": "3.11.1"
  },
  "vscode": {
   "interpreter": {
    "hash": "569bc7986e5cba94d565723aee490ea42941450f7b924846ae74d9952ea2571e"
   }
  }
 },
 "nbformat": 4,
 "nbformat_minor": 4
}
